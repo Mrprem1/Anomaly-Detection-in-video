{
 "cells": [
  {
   "cell_type": "code",
   "execution_count": 2,
   "id": "e7054362-2610-4336-a9a5-7ba2a1776b34",
   "metadata": {},
   "outputs": [],
   "source": [
    "import cv2\n",
    "import numpy as np\n",
    "from tensorflow.keras.models import load_model\n",
    "from collections import Counter\n",
    "import os\n",
    "import time\n",
    "import yagmail\n",
    "from twilio.rest import Client"
   ]
  },
  {
   "cell_type": "code",
   "execution_count": 4,
   "id": "4bb948d0-8f4c-4912-b08d-f0fd98597a99",
   "metadata": {},
   "outputs": [],
   "source": [
    "model = load_model(\"models/DenseNet201_model.h5\", compile=False)\n",
    "class_labels = ['Arson', 'Burglary', 'Explosion', 'Fighting', 'Normal']\n"
   ]
  },
  {
   "cell_type": "code",
   "execution_count": 6,
   "id": "9a735df8-b891-4b69-985c-aa2068ae3a1c",
   "metadata": {},
   "outputs": [],
   "source": [
    "ip_webcam_url = \"https://192.168.1.47:8080/video\""
   ]
  },
  {
   "cell_type": "code",
   "execution_count": 8,
   "id": "cf50616d-82b4-4a0d-8078-c154cd1c5208",
   "metadata": {},
   "outputs": [],
   "source": [
    "# Initialize Twilio credentials\n",
    "os.environ['TWILIO_ACCOUNT_SID'] = 'AC2010285aa7e8b2de906cea582be996ff'\n",
    "os.environ['TWILIO_AUTH_TOKEN'] = '40e977a0f72c262b9a6abfd1a2180223'\n",
    "account_sid = os.environ.get('TWILIO_ACCOUNT_SID')\n",
    "auth_token = os.environ.get('TWILIO_AUTH_TOKEN')\n",
    "client = Client(account_sid, auth_token)"
   ]
  },
  {
   "cell_type": "code",
   "execution_count": 10,
   "id": "ff6e1720-0062-4c14-9f8f-c3c9e8f88bb2",
   "metadata": {},
   "outputs": [],
   "source": [
    "# Yagmail credentials\n",
    "email_user = 'your_email@gmail.com'\n",
    "email_password = 'your_email_password'  # Generate an app password for security\n",
    "recipient_email = 'recipient_email@gmail.com'"
   ]
  },
  {
   "cell_type": "code",
   "execution_count": 12,
   "id": "b1f70ec0-1ebd-40b5-8902-be13363abc74",
   "metadata": {},
   "outputs": [],
   "source": [
    "# Function to send alerts\n",
    "def send_alert(class_label, anomaly_time):\n",
    "    # Email alert\n",
    "    user = yagmail.SMTP(user=email_user, password=email_password)\n",
    "    user.send(\n",
    "        to=recipient_email,\n",
    "        subject=\"$$ALERT$$\",\n",
    "        contents=f\"Anomaly detected: {class_label}. Occurred at approximately {anomaly_time} seconds.\"\n",
    "    )\n",
    "    print(\"Email alert sent.\")\n",
    "\n",
    "    # SMS alert\n",
    "    message = client.messages.create(\n",
    "        body=f\"ALERT: Anomaly detected: {class_label}. Occurred at approximately {anomaly_time} seconds.\",\n",
    "        from_='+16505607849',  # Replace with your Twilio number\n",
    "        to='+918096684380'  # Replace with recipient's phone number\n",
    "    )\n",
    "    print(f\"SMS sent successfully. Message SID: {message.sid}\")\n",
    "\n",
    "    # Voice call alert\n",
    "    call = client.calls.create(\n",
    "        url=\"http://demo.twilio.com/docs/voice.xml\",\n",
    "        to='+918096684380',  # Replace with recipient's phone number\n",
    "        from_='+16505607849'  # Replace with your Twilio number\n",
    "    )\n",
    "    print(f\"Call initiated successfully. Call SID: {call.sid}\")"
   ]
  },
  {
   "cell_type": "code",
   "execution_count": 14,
   "id": "496810c4-6ac4-4a32-ab88-048495b0cdc4",
   "metadata": {},
   "outputs": [],
   "source": [
    "def preprocess_frame(frame):\n",
    "    frame = cv2.resize(frame, (128, 128))\n",
    "    frame = np.array(frame) / 255.0\n",
    "    return frame\n"
   ]
  },
  {
   "cell_type": "code",
   "execution_count": 16,
   "id": "b009947c-01e1-40e3-9c52-0c3ed7a1f4a0",
   "metadata": {},
   "outputs": [],
   "source": [
    "# Real-time video processing\n",
    "def process_live_stream():\n",
    "    cap = cv2.VideoCapture(ip_webcam_url)\n",
    "    if not cap.isOpened():\n",
    "        print(\"Error: Unable to access IP webcam stream.\")\n",
    "        return\n",
    "\n",
    "    print(\"Streaming live video...\")\n",
    "    frame_buffer = []\n",
    "    frame_rate = 20  # Assuming 20 FPS\n",
    "    buffer_size = frame_rate * 10  # Process every 10 seconds\n",
    "\n",
    "    anomaly_detected = False\n",
    "    start_time = time.time()\n",
    "\n",
    "    while True:\n",
    "        ret, frame = cap.read()\n",
    "        if not ret:\n",
    "            print(\"Error: Unable to read frame. Retrying...\")\n",
    "            time.sleep(1)\n",
    "            continue\n",
    "\n",
    "        # Convert frame to RGB and preprocess\n",
    "        frame = cv2.cvtColor(frame, cv2.COLOR_BGR2RGB)\n",
    "        preprocessed_frame = preprocess_frame(frame)\n",
    "        frame_buffer.append(preprocessed_frame)\n",
    "\n",
    "        # Show the live feed (optional)\n",
    "        cv2.imshow(\"Live Feed\", cv2.cvtColor(frame, cv2.COLOR_RGB2BGR))\n",
    "\n",
    "        # Process the buffer if it reaches the size\n",
    "        if len(frame_buffer) >= buffer_size:\n",
    "            print(\"Processing frames...\")\n",
    "            data = np.array(frame_buffer)\n",
    "            predictions = model.predict(data, batch_size=32, verbose=0)\n",
    "            predicted_labels = predictions.argmax(axis=1)\n",
    "            label_counts = Counter(predicted_labels)\n",
    "            print(\"Label Counts:\", label_counts)\n",
    "\n",
    "            # Check for anomalies\n",
    "            max_label = max(label_counts, key=label_counts.get)\n",
    "            class_label = class_labels[max_label]\n",
    "\n",
    "            if class_label != \"Normal\" and not anomaly_detected:\n",
    "                anomaly_time = int(time.time() - start_time)\n",
    "                print(f\"Anomaly detected: {class_label} at {anomaly_time} seconds.\")\n",
    "                send_alert(class_label, anomaly_time)\n",
    "                anomaly_detected = True  # Avoid spamming alerts\n",
    "\n",
    "            frame_buffer = []  # Clear the buffer for the next set\n",
    "\n",
    "        # Exit condition\n",
    "        if cv2.waitKey(1) & 0xFF == ord('q'):\n",
    "            break\n",
    "\n",
    "    cap.release()\n",
    "    cv2.destroyAllWindows()"
   ]
  },
  {
   "cell_type": "code",
   "execution_count": 18,
   "id": "fe592443-c889-4915-8d04-8de9d8407c92",
   "metadata": {},
   "outputs": [
    {
     "name": "stdout",
     "output_type": "stream",
     "text": [
      "Streaming live video...\n",
      "Processing frames...\n",
      "Label Counts: Counter({2: 92, 1: 67, 4: 24, 0: 17})\n",
      "Anomaly detected: Explosion at 37 seconds.\n"
     ]
    },
    {
     "ename": "SMTPAuthenticationError",
     "evalue": "(535, b'5.7.8 Username and Password not accepted. For more information, go to\\n5.7.8  https://support.google.com/mail/?p=BadCredentials d2e1a72fcca58-7254176f159sm8624769b3a.47 - gsmtp')",
     "output_type": "error",
     "traceback": [
      "\u001b[1;31m---------------------------------------------------------------------------\u001b[0m",
      "\u001b[1;31mSMTPAuthenticationError\u001b[0m                   Traceback (most recent call last)",
      "Cell \u001b[1;32mIn[18], line 2\u001b[0m\n\u001b[0;32m      1\u001b[0m \u001b[38;5;28;01mif\u001b[39;00m \u001b[38;5;18m__name__\u001b[39m \u001b[38;5;241m==\u001b[39m \u001b[38;5;124m\"\u001b[39m\u001b[38;5;124m__main__\u001b[39m\u001b[38;5;124m\"\u001b[39m:\n\u001b[1;32m----> 2\u001b[0m     process_live_stream()\n",
      "Cell \u001b[1;32mIn[16], line 47\u001b[0m, in \u001b[0;36mprocess_live_stream\u001b[1;34m()\u001b[0m\n\u001b[0;32m     45\u001b[0m     anomaly_time \u001b[38;5;241m=\u001b[39m \u001b[38;5;28mint\u001b[39m(time\u001b[38;5;241m.\u001b[39mtime() \u001b[38;5;241m-\u001b[39m start_time)\n\u001b[0;32m     46\u001b[0m     \u001b[38;5;28mprint\u001b[39m(\u001b[38;5;124mf\u001b[39m\u001b[38;5;124m\"\u001b[39m\u001b[38;5;124mAnomaly detected: \u001b[39m\u001b[38;5;132;01m{\u001b[39;00mclass_label\u001b[38;5;132;01m}\u001b[39;00m\u001b[38;5;124m at \u001b[39m\u001b[38;5;132;01m{\u001b[39;00manomaly_time\u001b[38;5;132;01m}\u001b[39;00m\u001b[38;5;124m seconds.\u001b[39m\u001b[38;5;124m\"\u001b[39m)\n\u001b[1;32m---> 47\u001b[0m     send_alert(class_label, anomaly_time)\n\u001b[0;32m     48\u001b[0m     anomaly_detected \u001b[38;5;241m=\u001b[39m \u001b[38;5;28;01mTrue\u001b[39;00m  \u001b[38;5;66;03m# Avoid spamming alerts\u001b[39;00m\n\u001b[0;32m     50\u001b[0m frame_buffer \u001b[38;5;241m=\u001b[39m []  \u001b[38;5;66;03m# Clear the buffer for the next set\u001b[39;00m\n",
      "Cell \u001b[1;32mIn[12], line 5\u001b[0m, in \u001b[0;36msend_alert\u001b[1;34m(class_label, anomaly_time)\u001b[0m\n\u001b[0;32m      2\u001b[0m \u001b[38;5;28;01mdef\u001b[39;00m \u001b[38;5;21msend_alert\u001b[39m(class_label, anomaly_time):\n\u001b[0;32m      3\u001b[0m     \u001b[38;5;66;03m# Email alert\u001b[39;00m\n\u001b[0;32m      4\u001b[0m     user \u001b[38;5;241m=\u001b[39m yagmail\u001b[38;5;241m.\u001b[39mSMTP(user\u001b[38;5;241m=\u001b[39memail_user, password\u001b[38;5;241m=\u001b[39memail_password)\n\u001b[1;32m----> 5\u001b[0m     user\u001b[38;5;241m.\u001b[39msend(\n\u001b[0;32m      6\u001b[0m         to\u001b[38;5;241m=\u001b[39mrecipient_email,\n\u001b[0;32m      7\u001b[0m         subject\u001b[38;5;241m=\u001b[39m\u001b[38;5;124m\"\u001b[39m\u001b[38;5;124m$$ALERT$$\u001b[39m\u001b[38;5;124m\"\u001b[39m,\n\u001b[0;32m      8\u001b[0m         contents\u001b[38;5;241m=\u001b[39m\u001b[38;5;124mf\u001b[39m\u001b[38;5;124m\"\u001b[39m\u001b[38;5;124mAnomaly detected: \u001b[39m\u001b[38;5;132;01m{\u001b[39;00mclass_label\u001b[38;5;132;01m}\u001b[39;00m\u001b[38;5;124m. Occurred at approximately \u001b[39m\u001b[38;5;132;01m{\u001b[39;00manomaly_time\u001b[38;5;132;01m}\u001b[39;00m\u001b[38;5;124m seconds.\u001b[39m\u001b[38;5;124m\"\u001b[39m\n\u001b[0;32m      9\u001b[0m     )\n\u001b[0;32m     10\u001b[0m     \u001b[38;5;28mprint\u001b[39m(\u001b[38;5;124m\"\u001b[39m\u001b[38;5;124mEmail alert sent.\u001b[39m\u001b[38;5;124m\"\u001b[39m)\n\u001b[0;32m     12\u001b[0m     \u001b[38;5;66;03m# SMS alert\u001b[39;00m\n",
      "File \u001b[1;32m~\\anaconda3\\Lib\\site-packages\\yagmail\\sender.py:156\u001b[0m, in \u001b[0;36mSMTP.send\u001b[1;34m(self, to, subject, contents, attachments, cc, bcc, preview_only, headers, prettify_html, message_id, group_messages)\u001b[0m\n\u001b[0;32m    141\u001b[0m \u001b[38;5;28;01mdef\u001b[39;00m \u001b[38;5;21msend\u001b[39m(\n\u001b[0;32m    142\u001b[0m     \u001b[38;5;28mself\u001b[39m,\n\u001b[0;32m    143\u001b[0m     to\u001b[38;5;241m=\u001b[39m\u001b[38;5;28;01mNone\u001b[39;00m,\n\u001b[1;32m   (...)\u001b[0m\n\u001b[0;32m    153\u001b[0m     group_messages\u001b[38;5;241m=\u001b[39m\u001b[38;5;28;01mTrue\u001b[39;00m,\n\u001b[0;32m    154\u001b[0m ):\n\u001b[0;32m    155\u001b[0m \u001b[38;5;250m    \u001b[39m\u001b[38;5;124;03m\"\"\" Use this to send an email with gmail\"\"\"\u001b[39;00m\n\u001b[1;32m--> 156\u001b[0m     \u001b[38;5;28mself\u001b[39m\u001b[38;5;241m.\u001b[39mlogin()\n\u001b[0;32m    157\u001b[0m     recipients, msg_strings \u001b[38;5;241m=\u001b[39m \u001b[38;5;28mself\u001b[39m\u001b[38;5;241m.\u001b[39mprepare_send(\n\u001b[0;32m    158\u001b[0m         to,\n\u001b[0;32m    159\u001b[0m         subject,\n\u001b[1;32m   (...)\u001b[0m\n\u001b[0;32m    167\u001b[0m         group_messages,\n\u001b[0;32m    168\u001b[0m     )\n\u001b[0;32m    169\u001b[0m     \u001b[38;5;28;01mif\u001b[39;00m preview_only:\n",
      "File \u001b[1;32m~\\anaconda3\\Lib\\site-packages\\yagmail\\sender.py:210\u001b[0m, in \u001b[0;36mSMTP.login\u001b[1;34m(self)\u001b[0m\n\u001b[0;32m    208\u001b[0m     \u001b[38;5;28mself\u001b[39m\u001b[38;5;241m.\u001b[39m_login_oauth2(\u001b[38;5;28mself\u001b[39m\u001b[38;5;241m.\u001b[39mcredentials)\n\u001b[0;32m    209\u001b[0m \u001b[38;5;28;01melse\u001b[39;00m:\n\u001b[1;32m--> 210\u001b[0m     \u001b[38;5;28mself\u001b[39m\u001b[38;5;241m.\u001b[39m_login(\u001b[38;5;28mself\u001b[39m\u001b[38;5;241m.\u001b[39mcredentials)\n",
      "File \u001b[1;32m~\\anaconda3\\Lib\\site-packages\\yagmail\\sender.py:229\u001b[0m, in \u001b[0;36mSMTP._login\u001b[1;34m(self, password)\u001b[0m\n\u001b[0;32m    227\u001b[0m \u001b[38;5;28;01mif\u001b[39;00m \u001b[38;5;129;01mnot\u001b[39;00m \u001b[38;5;28mself\u001b[39m\u001b[38;5;241m.\u001b[39msmtp_skip_login:\n\u001b[0;32m    228\u001b[0m     password \u001b[38;5;241m=\u001b[39m \u001b[38;5;28mself\u001b[39m\u001b[38;5;241m.\u001b[39mhandle_password(\u001b[38;5;28mself\u001b[39m\u001b[38;5;241m.\u001b[39muser, password)\n\u001b[1;32m--> 229\u001b[0m     \u001b[38;5;28mself\u001b[39m\u001b[38;5;241m.\u001b[39msmtp\u001b[38;5;241m.\u001b[39mlogin(\u001b[38;5;28mself\u001b[39m\u001b[38;5;241m.\u001b[39muser, password)\n\u001b[0;32m    230\u001b[0m \u001b[38;5;28mself\u001b[39m\u001b[38;5;241m.\u001b[39mlog\u001b[38;5;241m.\u001b[39minfo(\u001b[38;5;124m\"\u001b[39m\u001b[38;5;124mConnected to SMTP @ \u001b[39m\u001b[38;5;132;01m%s\u001b[39;00m\u001b[38;5;124m:\u001b[39m\u001b[38;5;132;01m%s\u001b[39;00m\u001b[38;5;124m as \u001b[39m\u001b[38;5;132;01m%s\u001b[39;00m\u001b[38;5;124m\"\u001b[39m, \u001b[38;5;28mself\u001b[39m\u001b[38;5;241m.\u001b[39mhost, \u001b[38;5;28mself\u001b[39m\u001b[38;5;241m.\u001b[39mport, \u001b[38;5;28mself\u001b[39m\u001b[38;5;241m.\u001b[39muser)\n",
      "File \u001b[1;32m~\\anaconda3\\Lib\\smtplib.py:750\u001b[0m, in \u001b[0;36mSMTP.login\u001b[1;34m(self, user, password, initial_response_ok)\u001b[0m\n\u001b[0;32m    747\u001b[0m         last_exception \u001b[38;5;241m=\u001b[39m e\n\u001b[0;32m    749\u001b[0m \u001b[38;5;66;03m# We could not login successfully.  Return result of last attempt.\u001b[39;00m\n\u001b[1;32m--> 750\u001b[0m \u001b[38;5;28;01mraise\u001b[39;00m last_exception\n",
      "File \u001b[1;32m~\\anaconda3\\Lib\\smtplib.py:739\u001b[0m, in \u001b[0;36mSMTP.login\u001b[1;34m(self, user, password, initial_response_ok)\u001b[0m\n\u001b[0;32m    737\u001b[0m method_name \u001b[38;5;241m=\u001b[39m \u001b[38;5;124m'\u001b[39m\u001b[38;5;124mauth_\u001b[39m\u001b[38;5;124m'\u001b[39m \u001b[38;5;241m+\u001b[39m authmethod\u001b[38;5;241m.\u001b[39mlower()\u001b[38;5;241m.\u001b[39mreplace(\u001b[38;5;124m'\u001b[39m\u001b[38;5;124m-\u001b[39m\u001b[38;5;124m'\u001b[39m, \u001b[38;5;124m'\u001b[39m\u001b[38;5;124m_\u001b[39m\u001b[38;5;124m'\u001b[39m)\n\u001b[0;32m    738\u001b[0m \u001b[38;5;28;01mtry\u001b[39;00m:\n\u001b[1;32m--> 739\u001b[0m     (code, resp) \u001b[38;5;241m=\u001b[39m \u001b[38;5;28mself\u001b[39m\u001b[38;5;241m.\u001b[39mauth(\n\u001b[0;32m    740\u001b[0m         authmethod, \u001b[38;5;28mgetattr\u001b[39m(\u001b[38;5;28mself\u001b[39m, method_name),\n\u001b[0;32m    741\u001b[0m         initial_response_ok\u001b[38;5;241m=\u001b[39minitial_response_ok)\n\u001b[0;32m    742\u001b[0m     \u001b[38;5;66;03m# 235 == 'Authentication successful'\u001b[39;00m\n\u001b[0;32m    743\u001b[0m     \u001b[38;5;66;03m# 503 == 'Error: already authenticated'\u001b[39;00m\n\u001b[0;32m    744\u001b[0m     \u001b[38;5;28;01mif\u001b[39;00m code \u001b[38;5;129;01min\u001b[39;00m (\u001b[38;5;241m235\u001b[39m, \u001b[38;5;241m503\u001b[39m):\n",
      "File \u001b[1;32m~\\anaconda3\\Lib\\smtplib.py:662\u001b[0m, in \u001b[0;36mSMTP.auth\u001b[1;34m(self, mechanism, authobject, initial_response_ok)\u001b[0m\n\u001b[0;32m    660\u001b[0m \u001b[38;5;28;01mif\u001b[39;00m code \u001b[38;5;129;01min\u001b[39;00m (\u001b[38;5;241m235\u001b[39m, \u001b[38;5;241m503\u001b[39m):\n\u001b[0;32m    661\u001b[0m     \u001b[38;5;28;01mreturn\u001b[39;00m (code, resp)\n\u001b[1;32m--> 662\u001b[0m \u001b[38;5;28;01mraise\u001b[39;00m SMTPAuthenticationError(code, resp)\n",
      "\u001b[1;31mSMTPAuthenticationError\u001b[0m: (535, b'5.7.8 Username and Password not accepted. For more information, go to\\n5.7.8  https://support.google.com/mail/?p=BadCredentials d2e1a72fcca58-7254176f159sm8624769b3a.47 - gsmtp')"
     ]
    }
   ],
   "source": [
    "if __name__ == \"__main__\":\n",
    "    process_live_stream()"
   ]
  },
  {
   "cell_type": "code",
   "execution_count": null,
   "id": "1edea011-2e13-4fc2-841b-37058ade6353",
   "metadata": {},
   "outputs": [],
   "source": []
  }
 ],
 "metadata": {
  "kernelspec": {
   "display_name": "Python 3 (ipykernel)",
   "language": "python",
   "name": "python3"
  },
  "language_info": {
   "codemirror_mode": {
    "name": "ipython",
    "version": 3
   },
   "file_extension": ".py",
   "mimetype": "text/x-python",
   "name": "python",
   "nbconvert_exporter": "python",
   "pygments_lexer": "ipython3",
   "version": "3.12.7"
  }
 },
 "nbformat": 4,
 "nbformat_minor": 5
}
