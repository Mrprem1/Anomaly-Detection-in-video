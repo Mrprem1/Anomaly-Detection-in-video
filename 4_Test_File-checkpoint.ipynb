{
 "cells": [
  {
   "cell_type": "markdown",
   "id": "bc46d822",
   "metadata": {},
   "source": [
    ">Import Libraries"
   ]
  },
  {
   "cell_type": "code",
   "execution_count": 30,
   "id": "2b2881ef-558f-4201-a853-f1b047f8a2e5",
   "metadata": {},
   "outputs": [
    {
     "name": "stdout",
     "output_type": "stream",
     "text": [
      "Requirement already satisfied: yagmail in c:\\users\\velur\\anaconda3\\anakonda\\lib\\site-packages (0.15.293)\n",
      "Requirement already satisfied: premailer in c:\\users\\velur\\anaconda3\\anakonda\\lib\\site-packages (from yagmail) (3.10.0)\n",
      "Requirement already satisfied: lxml in c:\\users\\velur\\anaconda3\\anakonda\\lib\\site-packages (from premailer->yagmail) (4.9.3)\n",
      "Requirement already satisfied: cssselect in c:\\users\\velur\\anaconda3\\anakonda\\lib\\site-packages (from premailer->yagmail) (1.2.0)\n",
      "Requirement already satisfied: cssutils in c:\\users\\velur\\anaconda3\\anakonda\\lib\\site-packages (from premailer->yagmail) (2.11.1)\n",
      "Requirement already satisfied: requests in c:\\users\\velur\\anaconda3\\anakonda\\lib\\site-packages (from premailer->yagmail) (2.31.0)\n",
      "Requirement already satisfied: cachetools in c:\\users\\velur\\anaconda3\\anakonda\\lib\\site-packages (from premailer->yagmail) (4.2.2)\n",
      "Requirement already satisfied: more-itertools in c:\\users\\velur\\anaconda3\\anakonda\\lib\\site-packages (from cssutils->premailer->yagmail) (10.1.0)\n",
      "Requirement already satisfied: charset-normalizer<4,>=2 in c:\\users\\velur\\anaconda3\\anakonda\\lib\\site-packages (from requests->premailer->yagmail) (2.0.4)\n",
      "Requirement already satisfied: idna<4,>=2.5 in c:\\users\\velur\\anaconda3\\anakonda\\lib\\site-packages (from requests->premailer->yagmail) (3.4)\n",
      "Requirement already satisfied: urllib3<3,>=1.21.1 in c:\\users\\velur\\anaconda3\\anakonda\\lib\\site-packages (from requests->premailer->yagmail) (2.0.7)\n",
      "Requirement already satisfied: certifi>=2017.4.17 in c:\\users\\velur\\anaconda3\\anakonda\\lib\\site-packages (from requests->premailer->yagmail) (2024.2.2)\n",
      "Note: you may need to restart the kernel to use updated packages.\n"
     ]
    }
   ],
   "source": [
    "pip install yagmail\n"
   ]
  },
  {
   "cell_type": "code",
   "execution_count": 31,
   "id": "952dcb3d",
   "metadata": {},
   "outputs": [],
   "source": [
    "import warnings\n",
    "warnings.filterwarnings(\"ignore\")\n",
    "\n",
    "import numpy as np\n",
    "import cv2\n",
    "import shutil\n",
    "import os\n",
    "from tqdm import tqdm\n",
    "from glob import glob\n",
    "from tensorflow.keras.models import load_model\n",
    "from collections import Counter\n",
    "import yagmail\n",
    "import time "
   ]
  },
  {
   "cell_type": "markdown",
   "id": "af61d5a3",
   "metadata": {},
   "source": [
    ">Loading Model"
   ]
  },
  {
   "cell_type": "code",
   "execution_count": 32,
   "id": "cd522575-0344-4dae-baf1-8b1d4e6643da",
   "metadata": {},
   "outputs": [],
   "source": [
    "model = load_model(\"models/DenseNet201_model.h5\", compile=False)"
   ]
  },
  {
   "cell_type": "code",
   "execution_count": 33,
   "id": "a5e4fe1e",
   "metadata": {},
   "outputs": [],
   "source": [
    "class_labels = ['Arson', 'Burglary', 'Explosion', 'Fighting', 'Normal']"
   ]
  },
  {
   "cell_type": "markdown",
   "id": "8c55e962",
   "metadata": {},
   "source": [
    "### UserInput"
   ]
  },
  {
   "cell_type": "code",
   "execution_count": 34,
   "id": "4da8132c",
   "metadata": {},
   "outputs": [],
   "source": [
    "user_input = \"user_input/o.mp4\""
   ]
  },
  {
   "cell_type": "code",
   "execution_count": 35,
   "id": "22487106",
   "metadata": {},
   "outputs": [],
   "source": [
    "shutil.rmtree(\"UserInput_Frames\")\n",
    "os.makedirs(\"UserInput_Frames\", exist_ok=True)"
   ]
  },
  {
   "cell_type": "markdown",
   "id": "1c66299f",
   "metadata": {},
   "source": [
    ">Extracting Frames from User Input"
   ]
  },
  {
   "cell_type": "code",
   "execution_count": 36,
   "id": "397c0939",
   "metadata": {},
   "outputs": [
    {
     "name": "stdout",
     "output_type": "stream",
     "text": [
      "CPU times: total: 8.81 s\n",
      "Wall time: 54 s\n"
     ]
    }
   ],
   "source": [
    "%%time\n",
    "\n",
    "frame_count = 0\n",
    "\n",
    "cv_video = cv2.VideoCapture(user_input)\n",
    "\n",
    "while True:\n",
    "    status, frame = cv_video.read()\n",
    "\n",
    "    if status:\n",
    "        output_filepath = os.path.join(\"UserInput_Frames\", f\"{frame_count}_frame.png\")\n",
    "        cv2.imwrite(output_filepath, frame)\n",
    "        frame_count += 1\n",
    "    else:\n",
    "        break\n",
    "cv_video.release()"
   ]
  },
  {
   "cell_type": "markdown",
   "id": "3a82b049",
   "metadata": {},
   "source": [
    ">Loading Extracted Frames"
   ]
  },
  {
   "cell_type": "code",
   "execution_count": 37,
   "id": "cd6e9e9c",
   "metadata": {},
   "outputs": [
    {
     "data": {
      "text/plain": [
       "['UserInput_Frames\\\\0_frame.png',\n",
       " 'UserInput_Frames\\\\100_frame.png',\n",
       " 'UserInput_Frames\\\\101_frame.png',\n",
       " 'UserInput_Frames\\\\102_frame.png',\n",
       " 'UserInput_Frames\\\\103_frame.png',\n",
       " 'UserInput_Frames\\\\104_frame.png',\n",
       " 'UserInput_Frames\\\\105_frame.png',\n",
       " 'UserInput_Frames\\\\106_frame.png',\n",
       " 'UserInput_Frames\\\\107_frame.png',\n",
       " 'UserInput_Frames\\\\108_frame.png',\n",
       " 'UserInput_Frames\\\\109_frame.png',\n",
       " 'UserInput_Frames\\\\10_frame.png',\n",
       " 'UserInput_Frames\\\\110_frame.png',\n",
       " 'UserInput_Frames\\\\111_frame.png',\n",
       " 'UserInput_Frames\\\\112_frame.png',\n",
       " 'UserInput_Frames\\\\113_frame.png',\n",
       " 'UserInput_Frames\\\\114_frame.png',\n",
       " 'UserInput_Frames\\\\115_frame.png',\n",
       " 'UserInput_Frames\\\\116_frame.png',\n",
       " 'UserInput_Frames\\\\117_frame.png',\n",
       " 'UserInput_Frames\\\\118_frame.png',\n",
       " 'UserInput_Frames\\\\119_frame.png',\n",
       " 'UserInput_Frames\\\\11_frame.png',\n",
       " 'UserInput_Frames\\\\120_frame.png',\n",
       " 'UserInput_Frames\\\\121_frame.png',\n",
       " 'UserInput_Frames\\\\122_frame.png',\n",
       " 'UserInput_Frames\\\\123_frame.png',\n",
       " 'UserInput_Frames\\\\124_frame.png',\n",
       " 'UserInput_Frames\\\\125_frame.png',\n",
       " 'UserInput_Frames\\\\126_frame.png',\n",
       " 'UserInput_Frames\\\\127_frame.png',\n",
       " 'UserInput_Frames\\\\128_frame.png',\n",
       " 'UserInput_Frames\\\\129_frame.png',\n",
       " 'UserInput_Frames\\\\12_frame.png',\n",
       " 'UserInput_Frames\\\\130_frame.png',\n",
       " 'UserInput_Frames\\\\131_frame.png',\n",
       " 'UserInput_Frames\\\\132_frame.png',\n",
       " 'UserInput_Frames\\\\133_frame.png',\n",
       " 'UserInput_Frames\\\\134_frame.png',\n",
       " 'UserInput_Frames\\\\135_frame.png',\n",
       " 'UserInput_Frames\\\\136_frame.png',\n",
       " 'UserInput_Frames\\\\137_frame.png',\n",
       " 'UserInput_Frames\\\\138_frame.png',\n",
       " 'UserInput_Frames\\\\139_frame.png',\n",
       " 'UserInput_Frames\\\\13_frame.png',\n",
       " 'UserInput_Frames\\\\140_frame.png',\n",
       " 'UserInput_Frames\\\\141_frame.png',\n",
       " 'UserInput_Frames\\\\142_frame.png',\n",
       " 'UserInput_Frames\\\\143_frame.png',\n",
       " 'UserInput_Frames\\\\144_frame.png',\n",
       " 'UserInput_Frames\\\\145_frame.png',\n",
       " 'UserInput_Frames\\\\146_frame.png',\n",
       " 'UserInput_Frames\\\\147_frame.png',\n",
       " 'UserInput_Frames\\\\148_frame.png',\n",
       " 'UserInput_Frames\\\\149_frame.png',\n",
       " 'UserInput_Frames\\\\14_frame.png',\n",
       " 'UserInput_Frames\\\\150_frame.png',\n",
       " 'UserInput_Frames\\\\151_frame.png',\n",
       " 'UserInput_Frames\\\\152_frame.png',\n",
       " 'UserInput_Frames\\\\153_frame.png',\n",
       " 'UserInput_Frames\\\\154_frame.png',\n",
       " 'UserInput_Frames\\\\155_frame.png',\n",
       " 'UserInput_Frames\\\\156_frame.png',\n",
       " 'UserInput_Frames\\\\157_frame.png',\n",
       " 'UserInput_Frames\\\\158_frame.png',\n",
       " 'UserInput_Frames\\\\159_frame.png',\n",
       " 'UserInput_Frames\\\\15_frame.png',\n",
       " 'UserInput_Frames\\\\160_frame.png',\n",
       " 'UserInput_Frames\\\\161_frame.png',\n",
       " 'UserInput_Frames\\\\162_frame.png',\n",
       " 'UserInput_Frames\\\\163_frame.png',\n",
       " 'UserInput_Frames\\\\164_frame.png',\n",
       " 'UserInput_Frames\\\\165_frame.png',\n",
       " 'UserInput_Frames\\\\166_frame.png',\n",
       " 'UserInput_Frames\\\\167_frame.png',\n",
       " 'UserInput_Frames\\\\168_frame.png',\n",
       " 'UserInput_Frames\\\\169_frame.png',\n",
       " 'UserInput_Frames\\\\16_frame.png',\n",
       " 'UserInput_Frames\\\\170_frame.png',\n",
       " 'UserInput_Frames\\\\171_frame.png',\n",
       " 'UserInput_Frames\\\\172_frame.png',\n",
       " 'UserInput_Frames\\\\173_frame.png',\n",
       " 'UserInput_Frames\\\\174_frame.png',\n",
       " 'UserInput_Frames\\\\175_frame.png',\n",
       " 'UserInput_Frames\\\\176_frame.png',\n",
       " 'UserInput_Frames\\\\177_frame.png',\n",
       " 'UserInput_Frames\\\\178_frame.png',\n",
       " 'UserInput_Frames\\\\179_frame.png',\n",
       " 'UserInput_Frames\\\\17_frame.png',\n",
       " 'UserInput_Frames\\\\180_frame.png',\n",
       " 'UserInput_Frames\\\\181_frame.png',\n",
       " 'UserInput_Frames\\\\182_frame.png',\n",
       " 'UserInput_Frames\\\\183_frame.png',\n",
       " 'UserInput_Frames\\\\184_frame.png',\n",
       " 'UserInput_Frames\\\\185_frame.png',\n",
       " 'UserInput_Frames\\\\186_frame.png',\n",
       " 'UserInput_Frames\\\\187_frame.png',\n",
       " 'UserInput_Frames\\\\188_frame.png',\n",
       " 'UserInput_Frames\\\\189_frame.png',\n",
       " 'UserInput_Frames\\\\18_frame.png',\n",
       " 'UserInput_Frames\\\\190_frame.png',\n",
       " 'UserInput_Frames\\\\191_frame.png',\n",
       " 'UserInput_Frames\\\\192_frame.png',\n",
       " 'UserInput_Frames\\\\193_frame.png',\n",
       " 'UserInput_Frames\\\\194_frame.png',\n",
       " 'UserInput_Frames\\\\195_frame.png',\n",
       " 'UserInput_Frames\\\\196_frame.png',\n",
       " 'UserInput_Frames\\\\197_frame.png',\n",
       " 'UserInput_Frames\\\\198_frame.png',\n",
       " 'UserInput_Frames\\\\199_frame.png',\n",
       " 'UserInput_Frames\\\\19_frame.png',\n",
       " 'UserInput_Frames\\\\1_frame.png',\n",
       " 'UserInput_Frames\\\\200_frame.png',\n",
       " 'UserInput_Frames\\\\201_frame.png',\n",
       " 'UserInput_Frames\\\\202_frame.png',\n",
       " 'UserInput_Frames\\\\203_frame.png',\n",
       " 'UserInput_Frames\\\\204_frame.png',\n",
       " 'UserInput_Frames\\\\205_frame.png',\n",
       " 'UserInput_Frames\\\\206_frame.png',\n",
       " 'UserInput_Frames\\\\207_frame.png',\n",
       " 'UserInput_Frames\\\\208_frame.png',\n",
       " 'UserInput_Frames\\\\209_frame.png',\n",
       " 'UserInput_Frames\\\\20_frame.png',\n",
       " 'UserInput_Frames\\\\210_frame.png',\n",
       " 'UserInput_Frames\\\\21_frame.png',\n",
       " 'UserInput_Frames\\\\22_frame.png',\n",
       " 'UserInput_Frames\\\\23_frame.png',\n",
       " 'UserInput_Frames\\\\24_frame.png',\n",
       " 'UserInput_Frames\\\\25_frame.png',\n",
       " 'UserInput_Frames\\\\26_frame.png',\n",
       " 'UserInput_Frames\\\\27_frame.png',\n",
       " 'UserInput_Frames\\\\28_frame.png',\n",
       " 'UserInput_Frames\\\\29_frame.png',\n",
       " 'UserInput_Frames\\\\2_frame.png',\n",
       " 'UserInput_Frames\\\\30_frame.png',\n",
       " 'UserInput_Frames\\\\31_frame.png',\n",
       " 'UserInput_Frames\\\\32_frame.png',\n",
       " 'UserInput_Frames\\\\33_frame.png',\n",
       " 'UserInput_Frames\\\\34_frame.png',\n",
       " 'UserInput_Frames\\\\35_frame.png',\n",
       " 'UserInput_Frames\\\\36_frame.png',\n",
       " 'UserInput_Frames\\\\37_frame.png',\n",
       " 'UserInput_Frames\\\\38_frame.png',\n",
       " 'UserInput_Frames\\\\39_frame.png',\n",
       " 'UserInput_Frames\\\\3_frame.png',\n",
       " 'UserInput_Frames\\\\40_frame.png',\n",
       " 'UserInput_Frames\\\\41_frame.png',\n",
       " 'UserInput_Frames\\\\42_frame.png',\n",
       " 'UserInput_Frames\\\\43_frame.png',\n",
       " 'UserInput_Frames\\\\44_frame.png',\n",
       " 'UserInput_Frames\\\\45_frame.png',\n",
       " 'UserInput_Frames\\\\46_frame.png',\n",
       " 'UserInput_Frames\\\\47_frame.png',\n",
       " 'UserInput_Frames\\\\48_frame.png',\n",
       " 'UserInput_Frames\\\\49_frame.png',\n",
       " 'UserInput_Frames\\\\4_frame.png',\n",
       " 'UserInput_Frames\\\\50_frame.png',\n",
       " 'UserInput_Frames\\\\51_frame.png',\n",
       " 'UserInput_Frames\\\\52_frame.png',\n",
       " 'UserInput_Frames\\\\53_frame.png',\n",
       " 'UserInput_Frames\\\\54_frame.png',\n",
       " 'UserInput_Frames\\\\55_frame.png',\n",
       " 'UserInput_Frames\\\\56_frame.png',\n",
       " 'UserInput_Frames\\\\57_frame.png',\n",
       " 'UserInput_Frames\\\\58_frame.png',\n",
       " 'UserInput_Frames\\\\59_frame.png',\n",
       " 'UserInput_Frames\\\\5_frame.png',\n",
       " 'UserInput_Frames\\\\60_frame.png',\n",
       " 'UserInput_Frames\\\\61_frame.png',\n",
       " 'UserInput_Frames\\\\62_frame.png',\n",
       " 'UserInput_Frames\\\\63_frame.png',\n",
       " 'UserInput_Frames\\\\64_frame.png',\n",
       " 'UserInput_Frames\\\\65_frame.png',\n",
       " 'UserInput_Frames\\\\66_frame.png',\n",
       " 'UserInput_Frames\\\\67_frame.png',\n",
       " 'UserInput_Frames\\\\68_frame.png',\n",
       " 'UserInput_Frames\\\\69_frame.png',\n",
       " 'UserInput_Frames\\\\6_frame.png',\n",
       " 'UserInput_Frames\\\\70_frame.png',\n",
       " 'UserInput_Frames\\\\71_frame.png',\n",
       " 'UserInput_Frames\\\\72_frame.png',\n",
       " 'UserInput_Frames\\\\73_frame.png',\n",
       " 'UserInput_Frames\\\\74_frame.png',\n",
       " 'UserInput_Frames\\\\75_frame.png',\n",
       " 'UserInput_Frames\\\\76_frame.png',\n",
       " 'UserInput_Frames\\\\77_frame.png',\n",
       " 'UserInput_Frames\\\\78_frame.png',\n",
       " 'UserInput_Frames\\\\79_frame.png',\n",
       " 'UserInput_Frames\\\\7_frame.png',\n",
       " 'UserInput_Frames\\\\80_frame.png',\n",
       " 'UserInput_Frames\\\\81_frame.png',\n",
       " 'UserInput_Frames\\\\82_frame.png',\n",
       " 'UserInput_Frames\\\\83_frame.png',\n",
       " 'UserInput_Frames\\\\84_frame.png',\n",
       " 'UserInput_Frames\\\\85_frame.png',\n",
       " 'UserInput_Frames\\\\86_frame.png',\n",
       " 'UserInput_Frames\\\\87_frame.png',\n",
       " 'UserInput_Frames\\\\88_frame.png',\n",
       " 'UserInput_Frames\\\\89_frame.png',\n",
       " 'UserInput_Frames\\\\8_frame.png',\n",
       " 'UserInput_Frames\\\\90_frame.png',\n",
       " 'UserInput_Frames\\\\91_frame.png',\n",
       " 'UserInput_Frames\\\\92_frame.png',\n",
       " 'UserInput_Frames\\\\93_frame.png',\n",
       " 'UserInput_Frames\\\\94_frame.png',\n",
       " 'UserInput_Frames\\\\95_frame.png',\n",
       " 'UserInput_Frames\\\\96_frame.png',\n",
       " 'UserInput_Frames\\\\97_frame.png',\n",
       " 'UserInput_Frames\\\\98_frame.png',\n",
       " 'UserInput_Frames\\\\99_frame.png',\n",
       " 'UserInput_Frames\\\\9_frame.png']"
      ]
     },
     "execution_count": 37,
     "metadata": {},
     "output_type": "execute_result"
    }
   ],
   "source": [
    "input_frames_names = glob(\"UserInput_Frames/*.png\")\n",
    "input_frames_names"
   ]
  },
  {
   "cell_type": "code",
   "execution_count": 38,
   "id": "a92bee0b",
   "metadata": {},
   "outputs": [
    {
     "name": "stderr",
     "output_type": "stream",
     "text": [
      "100%|████████████████████████████████████████████████████████████████████████████████| 211/211 [00:46<00:00,  4.50it/s]\n"
     ]
    }
   ],
   "source": [
    "data = []\n",
    "\n",
    "for filename in tqdm(input_frames_names):\n",
    "    image = cv2.imread(filename)\n",
    "    image = cv2.cvtColor(image, cv2.COLOR_BGR2RGB)\n",
    "    image = cv2.resize(image, (128, 128))\n",
    "    image = np.array(image)\n",
    "    image = image/255.0\n",
    "    data.append(image)"
   ]
  },
  {
   "cell_type": "markdown",
   "id": "26b2dd8c",
   "metadata": {},
   "source": [
    ">Model Prediction"
   ]
  },
  {
   "cell_type": "code",
   "execution_count": 39,
   "id": "dc0bc4c7",
   "metadata": {},
   "outputs": [
    {
     "name": "stdout",
     "output_type": "stream",
     "text": [
      "WARNING:tensorflow:5 out of the last 37 calls to <function TensorFlowTrainer.make_predict_function.<locals>.one_step_on_data_distributed at 0x000001DEA31F3B00> triggered tf.function retracing. Tracing is expensive and the excessive number of tracings could be due to (1) creating @tf.function repeatedly in a loop, (2) passing tensors with different shapes, (3) passing Python objects instead of tensors. For (1), please define your @tf.function outside of the loop. For (2), @tf.function has reduce_retracing=True option that can avoid unnecessary retracing. For (3), please refer to https://www.tensorflow.org/guide/function#controlling_retracing and https://www.tensorflow.org/api_docs/python/tf/function for  more details.\n",
      "\u001b[1m7/7\u001b[0m \u001b[32m━━━━━━━━━━━━━━━━━━━━\u001b[0m\u001b[37m\u001b[0m \u001b[1m238s\u001b[0m 22s/step\n"
     ]
    }
   ],
   "source": [
    "start_time = time.time() \n",
    "prediction = model.predict(np.array(data), batch_size=32, verbose=1)\n",
    "predicted_labels = prediction.argmax(axis=1)\n",
    "predicted_labels = predicted_labels.tolist()\n",
    "predicted_labels = Counter(predicted_labels)\n",
    "filename = user_input.split(\"/\")[1]\n",
    "max_label = max(predicted_labels, key=predicted_labels.get)\n",
    "class_label = class_labels[max_label]\n",
    "elapsed_time = time.time() - start_time"
   ]
  },
  {
   "cell_type": "code",
   "execution_count": 40,
   "id": "96622d64-1638-4432-8d72-97175d32fae9",
   "metadata": {},
   "outputs": [
    {
     "name": "stdout",
     "output_type": "stream",
     "text": [
      "Label Counts: Counter({4: 211})\n"
     ]
    }
   ],
   "source": [
    "label_counts = Counter(predicted_labels)\n",
    "print(\"Label Counts:\", label_counts)"
   ]
  },
  {
   "cell_type": "code",
   "execution_count": 41,
   "id": "c213eb77-5c2d-439c-acd0-979da2e910a4",
   "metadata": {},
   "outputs": [],
   "source": [
    "max_count = max(label_counts.values())"
   ]
  },
  {
   "cell_type": "code",
   "execution_count": 42,
   "id": "1a326dc1",
   "metadata": {},
   "outputs": [
    {
     "name": "stdout",
     "output_type": "stream",
     "text": [
      "class index: 4\n",
      "class label: Normal\n"
     ]
    }
   ],
   "source": [
    "if class_label != \"Normal\":\n",
    "    user = yagmail.SMTP(user='manasa821761@gmail.com',password='mroxczwstoeqqwvk')\n",
    "    user.send(to='reddylokesh766@gmail.com',subject='$$ALERT$$',contents=f\"The predicted action is {class_label} from the file {filename}\")\n",
    "    print(\"Mail sent successfully\")\n",
    "    print(f\"class index: {max_label}\")\n",
    "    print(f\"class label: {class_label}\")\n",
    "    print(f\"anomaly occured at:{int(max_count)/32} seconds\")\n",
    "    print(f\"Time taken for prediction: {elapsed_time:.2f} seconds\")\n",
    "else:\n",
    "    print(f\"class index: {max_label}\")\n",
    "    print(f\"class label: {class_label}\")"
   ]
  },
  {
   "cell_type": "markdown",
   "id": "076a3a03",
   "metadata": {},
   "source": [
    "# Thank You"
   ]
  },
  {
   "cell_type": "code",
   "execution_count": null,
   "id": "8c829ebd",
   "metadata": {},
   "outputs": [],
   "source": []
  }
 ],
 "metadata": {
  "kernelspec": {
   "display_name": "Python 3 (ipykernel)",
   "language": "python",
   "name": "python3"
  },
  "language_info": {
   "codemirror_mode": {
    "name": "ipython",
    "version": 3
   },
   "file_extension": ".py",
   "mimetype": "text/x-python",
   "name": "python",
   "nbconvert_exporter": "python",
   "pygments_lexer": "ipython3",
   "version": "3.11.7"
  }
 },
 "nbformat": 4,
 "nbformat_minor": 5
}
