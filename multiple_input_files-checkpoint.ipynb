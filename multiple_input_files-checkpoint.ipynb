{
 "cells": [
  {
   "cell_type": "code",
   "execution_count": 24,
   "id": "7f43e348-e8d1-4c16-951b-77651bdb59ab",
   "metadata": {},
   "outputs": [],
   "source": [
    "import warnings\n",
    "warnings.filterwarnings(\"ignore\")\n",
    "\n",
    "import numpy as np\n",
    "import cv2\n",
    "import shutil\n",
    "import os\n",
    "from tqdm import tqdm\n",
    "from glob import glob\n",
    "from tensorflow.keras.models import load_model\n",
    "from collections import Counter\n",
    "import yagmail\n",
    "import time "
   ]
  },
  {
   "cell_type": "code",
   "execution_count": 36,
   "id": "c76b6d44-317f-4c8b-81de-93e650555d0f",
   "metadata": {},
   "outputs": [],
   "source": [
    "def process_video(video_path):\n",
    "    model = load_model(\"models/DenseNet201_model.h5\", compile=False)\n",
    "    class_labels = ['Arson', 'Burglary', 'Explosion', 'Fighting', 'Normal']\n",
    "\n",
    "    # Remove old frames directory and create a new one\n",
    "    shutil.rmtree(\"UserInput_Frames\", ignore_errors=True)\n",
    "    os.makedirs(\"UserInput_Frames\", exist_ok=True)\n",
    "    frame_count = 0\n",
    "    cv_video = cv2.VideoCapture(video_path)\n",
    "    while True:\n",
    "        status, frame = cv_video.read()\n",
    "        if status:\n",
    "            output_filepath = os.path.join(\"UserInput_Frames\", f\"{frame_count}_frame.png\")\n",
    "            cv2.imwrite(output_filepath, frame)\n",
    "            frame_count += 1\n",
    "        else:\n",
    "            break\n",
    "    cv_video.release()\n",
    "    input_frames_names = glob(\"UserInput_Frames/*.png\")\n",
    "    data = []\n",
    "\n",
    "    for filename in tqdm(input_frames_names):\n",
    "        image = cv2.imread(filename)\n",
    "        image = cv2.cvtColor(image, cv2.COLOR_BGR2RGB)\n",
    "        image = cv2.resize(image, (128, 128))\n",
    "        image = np.array(image)\n",
    "        image = image / 255.0\n",
    "        data.append(image)\n",
    "    start_time = time.time() \n",
    "    prediction = model.predict(np.array(data), batch_size=32, verbose=1)\n",
    "    predicted_labels = prediction.argmax(axis=1)\n",
    "    predicted_labels = predicted_labels.tolist()\n",
    "    predicted_labels = Counter(predicted_labels)\n",
    "    elapsed_time = time.time() - start_time \n",
    "    label_counts = Counter(predicted_labels)\n",
    "    max_count = max(label_counts.values())\n",
    "    # Determine the most common label\n",
    "    max_label = max(predicted_labels, key=predicted_labels.get)\n",
    "    class_label = class_labels[max_label]\n",
    "\n",
    "    # Send email notification if not normal\n",
    "    if class_label != \"Normal\":\n",
    "        user = yagmail.SMTP(user='manasa821761@gmail.com', password='mroxczwstoeqqwvk')\n",
    "        user.send(to='reddylokesh766@gmail.com', subject='$$ALERT$$', contents=f\"The predicted action is {class_label} from the file {video_path.split('/')[-1]}.\")\n",
    "        print(\"Mail sent successfully\")\n",
    "        print(f\"class index: {max_label}\")\n",
    "        print(f\"class label: {class_label} from file {video_path.split('/')[-1]}\")\n",
    "        print(f\"anomaly detected at:{int(max_count)/32} seconds\")\n",
    "        print(f\"Time taken for prediction: {elapsed_time:.2f} seconds\")\n",
    "    else:\n",
    "        print(f\"class index: {max_label}\")\n",
    "        print(f\"class label: {class_label} from file {video_path.split('/')[-1]}\")\n"
   ]
  },
  {
   "cell_type": "code",
   "execution_count": 37,
   "id": "d510afc2-4176-428c-a777-32d6ff6a4ee9",
   "metadata": {},
   "outputs": [],
   "source": [
    "videos_to_process = [\"user_input/o.mp4\", \"user_input/m.mp4\", \"user_input/d.mp4\"]"
   ]
  },
  {
   "cell_type": "code",
   "execution_count": 39,
   "id": "feb0fb49-df27-4dc2-ac83-585fc1f4fd75",
   "metadata": {},
   "outputs": [
    {
     "name": "stdout",
     "output_type": "stream",
     "text": [
      "Processing video: user_input/o.mp4\n"
     ]
    },
    {
     "name": "stderr",
     "output_type": "stream",
     "text": [
      "100%|████████████████████████████████████████████████████████████████████████████████| 918/918 [00:13<00:00, 66.77it/s]\n"
     ]
    },
    {
     "name": "stdout",
     "output_type": "stream",
     "text": [
      "\u001b[1m29/29\u001b[0m \u001b[32m━━━━━━━━━━━━━━━━━━━━\u001b[0m\u001b[37m\u001b[0m \u001b[1m107s\u001b[0m 3s/step\n",
      "Mail sent successfully\n",
      "class index: 2\n",
      "class label: Explosion from file o.mp4\n",
      "anomaly detected at:26.5 seconds\n",
      "Time taken for prediction: 107.20 seconds\n",
      "Processing video: user_input/m.mp4\n"
     ]
    },
    {
     "name": "stderr",
     "output_type": "stream",
     "text": [
      "100%|████████████████████████████████████████████████████████████████████████████████| 876/876 [00:12<00:00, 69.97it/s]\n"
     ]
    },
    {
     "name": "stdout",
     "output_type": "stream",
     "text": [
      "\u001b[1m28/28\u001b[0m \u001b[32m━━━━━━━━━━━━━━━━━━━━\u001b[0m\u001b[37m\u001b[0m \u001b[1m98s\u001b[0m 3s/step\n",
      "Mail sent successfully\n",
      "class index: 1\n",
      "class label: Burglary from file m.mp4\n",
      "anomaly detected at:27.375 seconds\n",
      "Time taken for prediction: 98.90 seconds\n",
      "Processing video: user_input/d.mp4\n"
     ]
    },
    {
     "name": "stderr",
     "output_type": "stream",
     "text": [
      "100%|██████████████████████████████████████████████████████████████████████████████████| 90/90 [00:00<00:00, 97.95it/s]\n"
     ]
    },
    {
     "name": "stdout",
     "output_type": "stream",
     "text": [
      "\u001b[1m3/3\u001b[0m \u001b[32m━━━━━━━━━━━━━━━━━━━━\u001b[0m\u001b[37m\u001b[0m \u001b[1m29s\u001b[0m 9s/step\n",
      "class index: 4\n",
      "class label: Normalfrom file d.mp4\n"
     ]
    }
   ],
   "source": [
    "for video_path in videos_to_process:\n",
    "    print(f\"Processing video: {video_path}\")\n",
    "    process_video(video_path)"
   ]
  },
  {
   "cell_type": "code",
   "execution_count": null,
   "id": "a8288512-8f12-475c-ae7c-0b7d5bf76875",
   "metadata": {},
   "outputs": [],
   "source": []
  }
 ],
 "metadata": {
  "kernelspec": {
   "display_name": "Python 3 (ipykernel)",
   "language": "python",
   "name": "python3"
  },
  "language_info": {
   "codemirror_mode": {
    "name": "ipython",
    "version": 3
   },
   "file_extension": ".py",
   "mimetype": "text/x-python",
   "name": "python",
   "nbconvert_exporter": "python",
   "pygments_lexer": "ipython3",
   "version": "3.11.7"
  }
 },
 "nbformat": 4,
 "nbformat_minor": 5
}
